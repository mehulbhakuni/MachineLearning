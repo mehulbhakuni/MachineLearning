{
 "cells": [
  {
   "cell_type": "code",
   "execution_count": 55,
   "id": "d3aa737e",
   "metadata": {},
   "outputs": [],
   "source": [
    "def count_of_pairs ():\n",
    "    list1=[2,7,4,1,3,6]\n",
    "    print(list1)\n",
    "    count=0\n",
    "    for i in range(0,6):\n",
    "        for j in range(i+1,6):\n",
    "            if(list1[i]+list[j]==10):\n",
    "                count=count+1\n",
    "\n",
    "    return count\n"
   ]
  },
  {
   "cell_type": "code",
   "execution_count": 50,
   "id": "bfa70f00",
   "metadata": {},
   "outputs": [],
   "source": [
    "def return_range():\n",
    "    \n",
    "\n",
    "    size=int(input(\"enter size of list\"))\n",
    "    if (size<3):\n",
    "        print(\"error , range determinTION CAN NOT BE DETERMINED \")\n",
    "        return \n",
    "\n",
    "\n",
    "    list1=[]\n",
    "    for i in range (size):\n",
    "        ele=int(input(\"enter element of list\"))\n",
    "        list1.append(ele)\n",
    "\n",
    "    max1=list1[0]\n",
    "    min=list1[0]\n",
    "    for i in range(size):\n",
    "        if(max1<list1[i] ):\n",
    "            max1=list1[i]\n",
    "            \n",
    "        if(min1>list[i]):\n",
    "           min1=list1[i]\n",
    "\n",
    "\n",
    "    \n",
    "    return range"
   ]
  },
  {
   "cell_type": "markdown",
   "id": "20c3f2ec",
   "metadata": {},
   "source": [
    "s=input(\"enter a string \")\n",
    "print(s)"
   ]
  },
  {
   "cell_type": "code",
   "execution_count": 49,
   "id": "7da442ee",
   "metadata": {},
   "outputs": [],
   "source": [
    "def max_freq():\n",
    "    s = input(\"Enter a string: \")\n",
    "    count = 0\n",
    "    for char in s:\n",
    "        count += 1\n",
    "    print(\"Length of the string:\", count)\n",
    "\n",
    "    dict1 = {}\n",
    "    for char in s:\n",
    "        if char in dict1:\n",
    "            dict1[char] += 1\n",
    "        else:\n",
    "            dict1[char] = 1\n",
    "\n",
    "    max_freq = 0\n",
    "    max_char = ''\n",
    "\n",
    "    for char in dict1:\n",
    "        if dict1[char] > max_freq:\n",
    "            max_freq = dict1[char]\n",
    "            max_char = char\n",
    "\n",
    "    print(\" caharacter which repeated most is \",max_char,\" with frequency \",max_freq)\n"
   ]
  },
  {
   "cell_type": "code",
   "execution_count": null,
   "id": "fa536bfb",
   "metadata": {},
   "outputs": [],
   "source": []
  },
  {
   "cell_type": "code",
   "execution_count": null,
   "id": "92549f53",
   "metadata": {},
   "outputs": [],
   "source": []
  }
 ],
 "metadata": {
  "kernelspec": {
   "display_name": "Python 3 (ipykernel)",
   "language": "python",
   "name": "python3"
  },
  "language_info": {
   "codemirror_mode": {
    "name": "ipython",
    "version": 3
   },
   "file_extension": ".py",
   "mimetype": "text/x-python",
   "name": "python",
   "nbconvert_exporter": "python",
   "pygments_lexer": "ipython3",
   "version": "3.11.4"
  }
 },
 "nbformat": 4,
 "nbformat_minor": 5
}
