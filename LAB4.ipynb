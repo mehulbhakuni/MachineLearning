{
 "cells": [
  {
   "cell_type": "code",
   "id": "initial_id",
   "metadata": {
    "collapsed": true,
    "ExecuteTime": {
     "end_time": "2024-08-20T05:55:06.152906Z",
     "start_time": "2024-08-20T05:55:06.136879Z"
    }
   },
   "source": [
    "import numpy as np\n",
    "import pandas as pd\n",
    "import matplotlib.pyplot as plt\n",
    "import seaborn as sns\n",
    "from sklearn.neighbors import KNeighborsClassifier\n",
    "from sklearn.model_selection import train_test_split\n",
    "from sklearn.metrics import confusion_matrix\n",
    "from sklearn.metrics import classification_report\n",
    "from sklearn.metrics import mean_squared_error, r2_score, mean_absolute_percentage_error\n"
   ],
   "outputs": [],
   "execution_count": 36
  },
  {
   "metadata": {
    "ExecuteTime": {
     "end_time": "2024-08-20T05:42:44.353170Z",
     "start_time": "2024-08-20T05:42:44.323625Z"
    }
   },
   "cell_type": "code",
   "source": [
    "proj = pd.read_csv(\"C:\\\\Users\\\\srich\\\\Desktop\\\\project_newday\\\\year3\\\\ML\\\\tempData\\\\EMOASemanticData.csv\")\n",
    "proj"
   ],
   "id": "7de0ca2752aac4c0",
   "outputs": [
    {
     "data": {
      "text/plain": [
       "   Participant Code     Trial Correctly Answerd  Total Fixation  \\\n",
       "0          STUD-P01  Trial001               yes              33   \n",
       "1          STUD-P02  Trial001                no              45   \n",
       "2          STUD-P03  Trial001               yes              41   \n",
       "3          STUD-P04  Trial001               yes              55   \n",
       "4          STUD-P05  Trial001               yes              24   \n",
       "..              ...       ...               ...             ...   \n",
       "70         STUD-P11  Trial005                no              29   \n",
       "71         STUD-P12  Trial005               yes              26   \n",
       "72         STUD-P13  Trial005                no              54   \n",
       "73         STUD-P14  Trial005               yes              38   \n",
       "74         STUD-P15  Trial005                no              33   \n",
       "\n",
       "    Total Duration  Q fix     Q dur  A fix    A dur  B fix  ...  K fix  \\\n",
       "0         15894369     23   9863210      2   416747      1  ...      5   \n",
       "1         16776943     27   9346725      7  3565207      5  ...      6   \n",
       "2         11943779     26   8129800      4  1032671      1  ...      7   \n",
       "3         22215175     37  16711365      5  1854232      5  ...      6   \n",
       "4         10629981     15   5398827      1   399904      3  ...      3   \n",
       "..             ...    ...       ...    ...      ...    ...  ...    ...   \n",
       "70        10745558     20   8013096      1   366440      1  ...      2   \n",
       "71         8912917     17   3865009      4  2665604      2  ...      2   \n",
       "72        12260893     29   6663119      2   583042      4  ...      4   \n",
       "73         9097022     15   3999012      2   449990      2  ...      0   \n",
       "74        11711915     18   5930752      2   449609      1  ...      1   \n",
       "\n",
       "      K dur  Unnamed: 17  Unnamed: 18  Unnamed: 19  Unnamed: 20  Unnamed: 21  \\\n",
       "0   3015788          NaN          NaN          NaN          NaN          NaN   \n",
       "1   2948673          NaN          NaN          NaN          NaN          NaN   \n",
       "2   2632285          NaN          NaN          NaN          NaN          NaN   \n",
       "3   2815571          NaN          NaN          NaN          NaN          NaN   \n",
       "4   1249473          NaN          NaN          NaN          NaN          NaN   \n",
       "..      ...          ...          ...          ...          ...          ...   \n",
       "70   316199          NaN          NaN          NaN          NaN          NaN   \n",
       "71   366415          NaN          NaN          NaN          NaN          NaN   \n",
       "72   833075          NaN          NaN          NaN          NaN          NaN   \n",
       "73        0          NaN          NaN          NaN          NaN          NaN   \n",
       "74   166696          NaN          NaN          NaN          NaN          NaN   \n",
       "\n",
       "    Unnamed: 22  Unnamed: 23  Unnamed: 24  \n",
       "0           NaN          NaN          NaN  \n",
       "1           NaN          NaN          NaN  \n",
       "2           NaN          NaN          NaN  \n",
       "3           NaN          NaN          NaN  \n",
       "4           NaN          NaN          NaN  \n",
       "..          ...          ...          ...  \n",
       "70          NaN          NaN          NaN  \n",
       "71          NaN          NaN          NaN  \n",
       "72          NaN          NaN          NaN  \n",
       "73          NaN          NaN          NaN  \n",
       "74          NaN          NaN          NaN  \n",
       "\n",
       "[75 rows x 25 columns]"
      ],
      "text/html": [
       "<div>\n",
       "<style scoped>\n",
       "    .dataframe tbody tr th:only-of-type {\n",
       "        vertical-align: middle;\n",
       "    }\n",
       "\n",
       "    .dataframe tbody tr th {\n",
       "        vertical-align: top;\n",
       "    }\n",
       "\n",
       "    .dataframe thead th {\n",
       "        text-align: right;\n",
       "    }\n",
       "</style>\n",
       "<table border=\"1\" class=\"dataframe\">\n",
       "  <thead>\n",
       "    <tr style=\"text-align: right;\">\n",
       "      <th></th>\n",
       "      <th>Participant Code</th>\n",
       "      <th>Trial</th>\n",
       "      <th>Correctly Answerd</th>\n",
       "      <th>Total Fixation</th>\n",
       "      <th>Total Duration</th>\n",
       "      <th>Q fix</th>\n",
       "      <th>Q dur</th>\n",
       "      <th>A fix</th>\n",
       "      <th>A dur</th>\n",
       "      <th>B fix</th>\n",
       "      <th>...</th>\n",
       "      <th>K fix</th>\n",
       "      <th>K dur</th>\n",
       "      <th>Unnamed: 17</th>\n",
       "      <th>Unnamed: 18</th>\n",
       "      <th>Unnamed: 19</th>\n",
       "      <th>Unnamed: 20</th>\n",
       "      <th>Unnamed: 21</th>\n",
       "      <th>Unnamed: 22</th>\n",
       "      <th>Unnamed: 23</th>\n",
       "      <th>Unnamed: 24</th>\n",
       "    </tr>\n",
       "  </thead>\n",
       "  <tbody>\n",
       "    <tr>\n",
       "      <th>0</th>\n",
       "      <td>STUD-P01</td>\n",
       "      <td>Trial001</td>\n",
       "      <td>yes</td>\n",
       "      <td>33</td>\n",
       "      <td>15894369</td>\n",
       "      <td>23</td>\n",
       "      <td>9863210</td>\n",
       "      <td>2</td>\n",
       "      <td>416747</td>\n",
       "      <td>1</td>\n",
       "      <td>...</td>\n",
       "      <td>5</td>\n",
       "      <td>3015788</td>\n",
       "      <td>NaN</td>\n",
       "      <td>NaN</td>\n",
       "      <td>NaN</td>\n",
       "      <td>NaN</td>\n",
       "      <td>NaN</td>\n",
       "      <td>NaN</td>\n",
       "      <td>NaN</td>\n",
       "      <td>NaN</td>\n",
       "    </tr>\n",
       "    <tr>\n",
       "      <th>1</th>\n",
       "      <td>STUD-P02</td>\n",
       "      <td>Trial001</td>\n",
       "      <td>no</td>\n",
       "      <td>45</td>\n",
       "      <td>16776943</td>\n",
       "      <td>27</td>\n",
       "      <td>9346725</td>\n",
       "      <td>7</td>\n",
       "      <td>3565207</td>\n",
       "      <td>5</td>\n",
       "      <td>...</td>\n",
       "      <td>6</td>\n",
       "      <td>2948673</td>\n",
       "      <td>NaN</td>\n",
       "      <td>NaN</td>\n",
       "      <td>NaN</td>\n",
       "      <td>NaN</td>\n",
       "      <td>NaN</td>\n",
       "      <td>NaN</td>\n",
       "      <td>NaN</td>\n",
       "      <td>NaN</td>\n",
       "    </tr>\n",
       "    <tr>\n",
       "      <th>2</th>\n",
       "      <td>STUD-P03</td>\n",
       "      <td>Trial001</td>\n",
       "      <td>yes</td>\n",
       "      <td>41</td>\n",
       "      <td>11943779</td>\n",
       "      <td>26</td>\n",
       "      <td>8129800</td>\n",
       "      <td>4</td>\n",
       "      <td>1032671</td>\n",
       "      <td>1</td>\n",
       "      <td>...</td>\n",
       "      <td>7</td>\n",
       "      <td>2632285</td>\n",
       "      <td>NaN</td>\n",
       "      <td>NaN</td>\n",
       "      <td>NaN</td>\n",
       "      <td>NaN</td>\n",
       "      <td>NaN</td>\n",
       "      <td>NaN</td>\n",
       "      <td>NaN</td>\n",
       "      <td>NaN</td>\n",
       "    </tr>\n",
       "    <tr>\n",
       "      <th>3</th>\n",
       "      <td>STUD-P04</td>\n",
       "      <td>Trial001</td>\n",
       "      <td>yes</td>\n",
       "      <td>55</td>\n",
       "      <td>22215175</td>\n",
       "      <td>37</td>\n",
       "      <td>16711365</td>\n",
       "      <td>5</td>\n",
       "      <td>1854232</td>\n",
       "      <td>5</td>\n",
       "      <td>...</td>\n",
       "      <td>6</td>\n",
       "      <td>2815571</td>\n",
       "      <td>NaN</td>\n",
       "      <td>NaN</td>\n",
       "      <td>NaN</td>\n",
       "      <td>NaN</td>\n",
       "      <td>NaN</td>\n",
       "      <td>NaN</td>\n",
       "      <td>NaN</td>\n",
       "      <td>NaN</td>\n",
       "    </tr>\n",
       "    <tr>\n",
       "      <th>4</th>\n",
       "      <td>STUD-P05</td>\n",
       "      <td>Trial001</td>\n",
       "      <td>yes</td>\n",
       "      <td>24</td>\n",
       "      <td>10629981</td>\n",
       "      <td>15</td>\n",
       "      <td>5398827</td>\n",
       "      <td>1</td>\n",
       "      <td>399904</td>\n",
       "      <td>3</td>\n",
       "      <td>...</td>\n",
       "      <td>3</td>\n",
       "      <td>1249473</td>\n",
       "      <td>NaN</td>\n",
       "      <td>NaN</td>\n",
       "      <td>NaN</td>\n",
       "      <td>NaN</td>\n",
       "      <td>NaN</td>\n",
       "      <td>NaN</td>\n",
       "      <td>NaN</td>\n",
       "      <td>NaN</td>\n",
       "    </tr>\n",
       "    <tr>\n",
       "      <th>...</th>\n",
       "      <td>...</td>\n",
       "      <td>...</td>\n",
       "      <td>...</td>\n",
       "      <td>...</td>\n",
       "      <td>...</td>\n",
       "      <td>...</td>\n",
       "      <td>...</td>\n",
       "      <td>...</td>\n",
       "      <td>...</td>\n",
       "      <td>...</td>\n",
       "      <td>...</td>\n",
       "      <td>...</td>\n",
       "      <td>...</td>\n",
       "      <td>...</td>\n",
       "      <td>...</td>\n",
       "      <td>...</td>\n",
       "      <td>...</td>\n",
       "      <td>...</td>\n",
       "      <td>...</td>\n",
       "      <td>...</td>\n",
       "      <td>...</td>\n",
       "    </tr>\n",
       "    <tr>\n",
       "      <th>70</th>\n",
       "      <td>STUD-P11</td>\n",
       "      <td>Trial005</td>\n",
       "      <td>no</td>\n",
       "      <td>29</td>\n",
       "      <td>10745558</td>\n",
       "      <td>20</td>\n",
       "      <td>8013096</td>\n",
       "      <td>1</td>\n",
       "      <td>366440</td>\n",
       "      <td>1</td>\n",
       "      <td>...</td>\n",
       "      <td>2</td>\n",
       "      <td>316199</td>\n",
       "      <td>NaN</td>\n",
       "      <td>NaN</td>\n",
       "      <td>NaN</td>\n",
       "      <td>NaN</td>\n",
       "      <td>NaN</td>\n",
       "      <td>NaN</td>\n",
       "      <td>NaN</td>\n",
       "      <td>NaN</td>\n",
       "    </tr>\n",
       "    <tr>\n",
       "      <th>71</th>\n",
       "      <td>STUD-P12</td>\n",
       "      <td>Trial005</td>\n",
       "      <td>yes</td>\n",
       "      <td>26</td>\n",
       "      <td>8912917</td>\n",
       "      <td>17</td>\n",
       "      <td>3865009</td>\n",
       "      <td>4</td>\n",
       "      <td>2665604</td>\n",
       "      <td>2</td>\n",
       "      <td>...</td>\n",
       "      <td>2</td>\n",
       "      <td>366415</td>\n",
       "      <td>NaN</td>\n",
       "      <td>NaN</td>\n",
       "      <td>NaN</td>\n",
       "      <td>NaN</td>\n",
       "      <td>NaN</td>\n",
       "      <td>NaN</td>\n",
       "      <td>NaN</td>\n",
       "      <td>NaN</td>\n",
       "    </tr>\n",
       "    <tr>\n",
       "      <th>72</th>\n",
       "      <td>STUD-P13</td>\n",
       "      <td>Trial005</td>\n",
       "      <td>no</td>\n",
       "      <td>54</td>\n",
       "      <td>12260893</td>\n",
       "      <td>29</td>\n",
       "      <td>6663119</td>\n",
       "      <td>2</td>\n",
       "      <td>583042</td>\n",
       "      <td>4</td>\n",
       "      <td>...</td>\n",
       "      <td>4</td>\n",
       "      <td>833075</td>\n",
       "      <td>NaN</td>\n",
       "      <td>NaN</td>\n",
       "      <td>NaN</td>\n",
       "      <td>NaN</td>\n",
       "      <td>NaN</td>\n",
       "      <td>NaN</td>\n",
       "      <td>NaN</td>\n",
       "      <td>NaN</td>\n",
       "    </tr>\n",
       "    <tr>\n",
       "      <th>73</th>\n",
       "      <td>STUD-P14</td>\n",
       "      <td>Trial005</td>\n",
       "      <td>yes</td>\n",
       "      <td>38</td>\n",
       "      <td>9097022</td>\n",
       "      <td>15</td>\n",
       "      <td>3999012</td>\n",
       "      <td>2</td>\n",
       "      <td>449990</td>\n",
       "      <td>2</td>\n",
       "      <td>...</td>\n",
       "      <td>0</td>\n",
       "      <td>0</td>\n",
       "      <td>NaN</td>\n",
       "      <td>NaN</td>\n",
       "      <td>NaN</td>\n",
       "      <td>NaN</td>\n",
       "      <td>NaN</td>\n",
       "      <td>NaN</td>\n",
       "      <td>NaN</td>\n",
       "      <td>NaN</td>\n",
       "    </tr>\n",
       "    <tr>\n",
       "      <th>74</th>\n",
       "      <td>STUD-P15</td>\n",
       "      <td>Trial005</td>\n",
       "      <td>no</td>\n",
       "      <td>33</td>\n",
       "      <td>11711915</td>\n",
       "      <td>18</td>\n",
       "      <td>5930752</td>\n",
       "      <td>2</td>\n",
       "      <td>449609</td>\n",
       "      <td>1</td>\n",
       "      <td>...</td>\n",
       "      <td>1</td>\n",
       "      <td>166696</td>\n",
       "      <td>NaN</td>\n",
       "      <td>NaN</td>\n",
       "      <td>NaN</td>\n",
       "      <td>NaN</td>\n",
       "      <td>NaN</td>\n",
       "      <td>NaN</td>\n",
       "      <td>NaN</td>\n",
       "      <td>NaN</td>\n",
       "    </tr>\n",
       "  </tbody>\n",
       "</table>\n",
       "<p>75 rows × 25 columns</p>\n",
       "</div>"
      ]
     },
     "execution_count": 11,
     "metadata": {},
     "output_type": "execute_result"
    }
   ],
   "execution_count": 11
  },
  {
   "metadata": {
    "ExecuteTime": {
     "end_time": "2024-08-20T06:22:58.265079Z",
     "start_time": "2024-08-20T06:22:58.249756Z"
    }
   },
   "cell_type": "code",
   "source": [
    "y = proj['Trial']\n",
    "X = proj[['Total Fixation','Total Duration','Q fix','Q dur','A fix','A dur','B fix','B dur','C fix','C dur','D fix','D dur','K fix','K dur']]\n",
    "\n",
    "\n",
    "X_train, X_test, y_train, y_test = train_test_split(X, y, test_size=0.3)"
   ],
   "id": "e8a7a776228056d5",
   "outputs": [],
   "execution_count": 78
  },
  {
   "metadata": {
    "ExecuteTime": {
     "end_time": "2024-08-20T06:22:59.079581Z",
     "start_time": "2024-08-20T06:22:59.069932Z"
    }
   },
   "cell_type": "code",
   "source": [
    "neigh = KNeighborsClassifier(n_neighbors=3) \n",
    "neigh.fit(X, y)"
   ],
   "id": "1a36a5607eda6aac",
   "outputs": [
    {
     "data": {
      "text/plain": [
       "KNeighborsClassifier(n_neighbors=3)"
      ],
      "text/html": [
       "<style>#sk-container-id-3 {color: black;}#sk-container-id-3 pre{padding: 0;}#sk-container-id-3 div.sk-toggleable {background-color: white;}#sk-container-id-3 label.sk-toggleable__label {cursor: pointer;display: block;width: 100%;margin-bottom: 0;padding: 0.3em;box-sizing: border-box;text-align: center;}#sk-container-id-3 label.sk-toggleable__label-arrow:before {content: \"▸\";float: left;margin-right: 0.25em;color: #696969;}#sk-container-id-3 label.sk-toggleable__label-arrow:hover:before {color: black;}#sk-container-id-3 div.sk-estimator:hover label.sk-toggleable__label-arrow:before {color: black;}#sk-container-id-3 div.sk-toggleable__content {max-height: 0;max-width: 0;overflow: hidden;text-align: left;background-color: #f0f8ff;}#sk-container-id-3 div.sk-toggleable__content pre {margin: 0.2em;color: black;border-radius: 0.25em;background-color: #f0f8ff;}#sk-container-id-3 input.sk-toggleable__control:checked~div.sk-toggleable__content {max-height: 200px;max-width: 100%;overflow: auto;}#sk-container-id-3 input.sk-toggleable__control:checked~label.sk-toggleable__label-arrow:before {content: \"▾\";}#sk-container-id-3 div.sk-estimator input.sk-toggleable__control:checked~label.sk-toggleable__label {background-color: #d4ebff;}#sk-container-id-3 div.sk-label input.sk-toggleable__control:checked~label.sk-toggleable__label {background-color: #d4ebff;}#sk-container-id-3 input.sk-hidden--visually {border: 0;clip: rect(1px 1px 1px 1px);clip: rect(1px, 1px, 1px, 1px);height: 1px;margin: -1px;overflow: hidden;padding: 0;position: absolute;width: 1px;}#sk-container-id-3 div.sk-estimator {font-family: monospace;background-color: #f0f8ff;border: 1px dotted black;border-radius: 0.25em;box-sizing: border-box;margin-bottom: 0.5em;}#sk-container-id-3 div.sk-estimator:hover {background-color: #d4ebff;}#sk-container-id-3 div.sk-parallel-item::after {content: \"\";width: 100%;border-bottom: 1px solid gray;flex-grow: 1;}#sk-container-id-3 div.sk-label:hover label.sk-toggleable__label {background-color: #d4ebff;}#sk-container-id-3 div.sk-serial::before {content: \"\";position: absolute;border-left: 1px solid gray;box-sizing: border-box;top: 0;bottom: 0;left: 50%;z-index: 0;}#sk-container-id-3 div.sk-serial {display: flex;flex-direction: column;align-items: center;background-color: white;padding-right: 0.2em;padding-left: 0.2em;position: relative;}#sk-container-id-3 div.sk-item {position: relative;z-index: 1;}#sk-container-id-3 div.sk-parallel {display: flex;align-items: stretch;justify-content: center;background-color: white;position: relative;}#sk-container-id-3 div.sk-item::before, #sk-container-id-3 div.sk-parallel-item::before {content: \"\";position: absolute;border-left: 1px solid gray;box-sizing: border-box;top: 0;bottom: 0;left: 50%;z-index: -1;}#sk-container-id-3 div.sk-parallel-item {display: flex;flex-direction: column;z-index: 1;position: relative;background-color: white;}#sk-container-id-3 div.sk-parallel-item:first-child::after {align-self: flex-end;width: 50%;}#sk-container-id-3 div.sk-parallel-item:last-child::after {align-self: flex-start;width: 50%;}#sk-container-id-3 div.sk-parallel-item:only-child::after {width: 0;}#sk-container-id-3 div.sk-dashed-wrapped {border: 1px dashed gray;margin: 0 0.4em 0.5em 0.4em;box-sizing: border-box;padding-bottom: 0.4em;background-color: white;}#sk-container-id-3 div.sk-label label {font-family: monospace;font-weight: bold;display: inline-block;line-height: 1.2em;}#sk-container-id-3 div.sk-label-container {text-align: center;}#sk-container-id-3 div.sk-container {/* jupyter's `normalize.less` sets `[hidden] { display: none; }` but bootstrap.min.css set `[hidden] { display: none !important; }` so we also need the `!important` here to be able to override the default hidden behavior on the sphinx rendered scikit-learn.org. See: https://github.com/scikit-learn/scikit-learn/issues/21755 */display: inline-block !important;position: relative;}#sk-container-id-3 div.sk-text-repr-fallback {display: none;}</style><div id=\"sk-container-id-3\" class=\"sk-top-container\"><div class=\"sk-text-repr-fallback\"><pre>KNeighborsClassifier(n_neighbors=3)</pre><b>In a Jupyter environment, please rerun this cell to show the HTML representation or trust the notebook. <br />On GitHub, the HTML representation is unable to render, please try loading this page with nbviewer.org.</b></div><div class=\"sk-container\" hidden><div class=\"sk-item\"><div class=\"sk-estimator sk-toggleable\"><input class=\"sk-toggleable__control sk-hidden--visually\" id=\"sk-estimator-id-3\" type=\"checkbox\" checked><label for=\"sk-estimator-id-3\" class=\"sk-toggleable__label sk-toggleable__label-arrow\">KNeighborsClassifier</label><div class=\"sk-toggleable__content\"><pre>KNeighborsClassifier(n_neighbors=3)</pre></div></div></div></div></div>"
      ]
     },
     "execution_count": 79,
     "metadata": {},
     "output_type": "execute_result"
    }
   ],
   "execution_count": 79
  },
  {
   "metadata": {
    "ExecuteTime": {
     "end_time": "2024-08-20T06:23:00.082572Z",
     "start_time": "2024-08-20T06:23:00.067284Z"
    }
   },
   "cell_type": "code",
   "source": "neigh.score(X_test, y_test)",
   "id": "5de4559f2d4180f0",
   "outputs": [
    {
     "data": {
      "text/plain": [
       "0.8260869565217391"
      ]
     },
     "execution_count": 80,
     "metadata": {},
     "output_type": "execute_result"
    }
   ],
   "execution_count": 80
  },
  {
   "metadata": {
    "ExecuteTime": {
     "end_time": "2024-08-20T06:23:00.793938Z",
     "start_time": "2024-08-20T06:23:00.770979Z"
    }
   },
   "cell_type": "code",
   "source": "neigh.predict(X_test)",
   "id": "41b83a3a12f3161d",
   "outputs": [
    {
     "data": {
      "text/plain": [
       "array(['Trial003', 'Trial005', 'Trial001', 'Trial005', 'Trial005',\n",
       "       'Trial002', 'Trial004', 'Trial003', 'Trial001', 'Trial004',\n",
       "       'Trial003', 'Trial003', 'Trial005', 'Trial002', 'Trial002',\n",
       "       'Trial005', 'Trial002', 'Trial002', 'Trial002', 'Trial001',\n",
       "       'Trial004', 'Trial004', 'Trial001'], dtype=object)"
      ]
     },
     "execution_count": 81,
     "metadata": {},
     "output_type": "execute_result"
    }
   ],
   "execution_count": 81
  },
  {
   "metadata": {
    "ExecuteTime": {
     "end_time": "2024-08-20T06:23:06.458848Z",
     "start_time": "2024-08-20T06:23:06.435254Z"
    }
   },
   "cell_type": "code",
   "source": [
    "nn = KNeighborsClassifier(n_neighbors=1) \n",
    "nn.fit(X, y)"
   ],
   "id": "b353e1f592857e11",
   "outputs": [
    {
     "data": {
      "text/plain": [
       "KNeighborsClassifier(n_neighbors=1)"
      ],
      "text/html": [
       "<style>#sk-container-id-4 {color: black;}#sk-container-id-4 pre{padding: 0;}#sk-container-id-4 div.sk-toggleable {background-color: white;}#sk-container-id-4 label.sk-toggleable__label {cursor: pointer;display: block;width: 100%;margin-bottom: 0;padding: 0.3em;box-sizing: border-box;text-align: center;}#sk-container-id-4 label.sk-toggleable__label-arrow:before {content: \"▸\";float: left;margin-right: 0.25em;color: #696969;}#sk-container-id-4 label.sk-toggleable__label-arrow:hover:before {color: black;}#sk-container-id-4 div.sk-estimator:hover label.sk-toggleable__label-arrow:before {color: black;}#sk-container-id-4 div.sk-toggleable__content {max-height: 0;max-width: 0;overflow: hidden;text-align: left;background-color: #f0f8ff;}#sk-container-id-4 div.sk-toggleable__content pre {margin: 0.2em;color: black;border-radius: 0.25em;background-color: #f0f8ff;}#sk-container-id-4 input.sk-toggleable__control:checked~div.sk-toggleable__content {max-height: 200px;max-width: 100%;overflow: auto;}#sk-container-id-4 input.sk-toggleable__control:checked~label.sk-toggleable__label-arrow:before {content: \"▾\";}#sk-container-id-4 div.sk-estimator input.sk-toggleable__control:checked~label.sk-toggleable__label {background-color: #d4ebff;}#sk-container-id-4 div.sk-label input.sk-toggleable__control:checked~label.sk-toggleable__label {background-color: #d4ebff;}#sk-container-id-4 input.sk-hidden--visually {border: 0;clip: rect(1px 1px 1px 1px);clip: rect(1px, 1px, 1px, 1px);height: 1px;margin: -1px;overflow: hidden;padding: 0;position: absolute;width: 1px;}#sk-container-id-4 div.sk-estimator {font-family: monospace;background-color: #f0f8ff;border: 1px dotted black;border-radius: 0.25em;box-sizing: border-box;margin-bottom: 0.5em;}#sk-container-id-4 div.sk-estimator:hover {background-color: #d4ebff;}#sk-container-id-4 div.sk-parallel-item::after {content: \"\";width: 100%;border-bottom: 1px solid gray;flex-grow: 1;}#sk-container-id-4 div.sk-label:hover label.sk-toggleable__label {background-color: #d4ebff;}#sk-container-id-4 div.sk-serial::before {content: \"\";position: absolute;border-left: 1px solid gray;box-sizing: border-box;top: 0;bottom: 0;left: 50%;z-index: 0;}#sk-container-id-4 div.sk-serial {display: flex;flex-direction: column;align-items: center;background-color: white;padding-right: 0.2em;padding-left: 0.2em;position: relative;}#sk-container-id-4 div.sk-item {position: relative;z-index: 1;}#sk-container-id-4 div.sk-parallel {display: flex;align-items: stretch;justify-content: center;background-color: white;position: relative;}#sk-container-id-4 div.sk-item::before, #sk-container-id-4 div.sk-parallel-item::before {content: \"\";position: absolute;border-left: 1px solid gray;box-sizing: border-box;top: 0;bottom: 0;left: 50%;z-index: -1;}#sk-container-id-4 div.sk-parallel-item {display: flex;flex-direction: column;z-index: 1;position: relative;background-color: white;}#sk-container-id-4 div.sk-parallel-item:first-child::after {align-self: flex-end;width: 50%;}#sk-container-id-4 div.sk-parallel-item:last-child::after {align-self: flex-start;width: 50%;}#sk-container-id-4 div.sk-parallel-item:only-child::after {width: 0;}#sk-container-id-4 div.sk-dashed-wrapped {border: 1px dashed gray;margin: 0 0.4em 0.5em 0.4em;box-sizing: border-box;padding-bottom: 0.4em;background-color: white;}#sk-container-id-4 div.sk-label label {font-family: monospace;font-weight: bold;display: inline-block;line-height: 1.2em;}#sk-container-id-4 div.sk-label-container {text-align: center;}#sk-container-id-4 div.sk-container {/* jupyter's `normalize.less` sets `[hidden] { display: none; }` but bootstrap.min.css set `[hidden] { display: none !important; }` so we also need the `!important` here to be able to override the default hidden behavior on the sphinx rendered scikit-learn.org. See: https://github.com/scikit-learn/scikit-learn/issues/21755 */display: inline-block !important;position: relative;}#sk-container-id-4 div.sk-text-repr-fallback {display: none;}</style><div id=\"sk-container-id-4\" class=\"sk-top-container\"><div class=\"sk-text-repr-fallback\"><pre>KNeighborsClassifier(n_neighbors=1)</pre><b>In a Jupyter environment, please rerun this cell to show the HTML representation or trust the notebook. <br />On GitHub, the HTML representation is unable to render, please try loading this page with nbviewer.org.</b></div><div class=\"sk-container\" hidden><div class=\"sk-item\"><div class=\"sk-estimator sk-toggleable\"><input class=\"sk-toggleable__control sk-hidden--visually\" id=\"sk-estimator-id-4\" type=\"checkbox\" checked><label for=\"sk-estimator-id-4\" class=\"sk-toggleable__label sk-toggleable__label-arrow\">KNeighborsClassifier</label><div class=\"sk-toggleable__content\"><pre>KNeighborsClassifier(n_neighbors=1)</pre></div></div></div></div></div>"
      ]
     },
     "execution_count": 82,
     "metadata": {},
     "output_type": "execute_result"
    }
   ],
   "execution_count": 82
  },
  {
   "metadata": {
    "ExecuteTime": {
     "end_time": "2024-08-20T06:23:07.458240Z",
     "start_time": "2024-08-20T06:23:07.437340Z"
    }
   },
   "cell_type": "code",
   "source": "nn.score(X_test, y_test)",
   "id": "f93b08de10e8d232",
   "outputs": [
    {
     "data": {
      "text/plain": [
       "1.0"
      ]
     },
     "execution_count": 83,
     "metadata": {},
     "output_type": "execute_result"
    }
   ],
   "execution_count": 83
  },
  {
   "metadata": {
    "ExecuteTime": {
     "end_time": "2024-08-20T06:23:09.424160Z",
     "start_time": "2024-08-20T06:23:09.400089Z"
    }
   },
   "cell_type": "code",
   "source": "nn.predict(X_test)",
   "id": "bf919c523f35ffd0",
   "outputs": [
    {
     "data": {
      "text/plain": [
       "array(['Trial003', 'Trial005', 'Trial001', 'Trial001', 'Trial005',\n",
       "       'Trial003', 'Trial004', 'Trial002', 'Trial001', 'Trial004',\n",
       "       'Trial003', 'Trial003', 'Trial005', 'Trial004', 'Trial002',\n",
       "       'Trial005', 'Trial002', 'Trial002', 'Trial002', 'Trial001',\n",
       "       'Trial004', 'Trial004', 'Trial001'], dtype=object)"
      ]
     },
     "execution_count": 84,
     "metadata": {},
     "output_type": "execute_result"
    }
   ],
   "execution_count": 84
  },
  {
   "metadata": {
    "ExecuteTime": {
     "end_time": "2024-08-20T06:23:09.923009Z",
     "start_time": "2024-08-20T06:23:09.908441Z"
    }
   },
   "cell_type": "code",
   "source": "y_pred = neigh.predict(X_test)",
   "id": "da48ce76b0391153",
   "outputs": [],
   "execution_count": 85
  },
  {
   "metadata": {
    "ExecuteTime": {
     "end_time": "2024-08-20T06:23:10.768542Z",
     "start_time": "2024-08-20T06:23:10.754999Z"
    }
   },
   "cell_type": "code",
   "source": "confusion_matrix(y_test, y_pred)",
   "id": "39a2704d6c094bbe",
   "outputs": [
    {
     "data": {
      "text/plain": [
       "array([[4, 0, 0, 0, 1],\n",
       "       [0, 4, 1, 0, 0],\n",
       "       [0, 1, 3, 0, 0],\n",
       "       [0, 1, 0, 4, 0],\n",
       "       [0, 0, 0, 0, 4]], dtype=int64)"
      ]
     },
     "execution_count": 86,
     "metadata": {},
     "output_type": "execute_result"
    }
   ],
   "execution_count": 86
  },
  {
   "metadata": {
    "ExecuteTime": {
     "end_time": "2024-08-20T06:23:11.494793Z",
     "start_time": "2024-08-20T06:23:11.486540Z"
    }
   },
   "cell_type": "code",
   "source": "y_pred2 = nn.predict(X_test)",
   "id": "cf1544bcf09e28f9",
   "outputs": [],
   "execution_count": 87
  },
  {
   "metadata": {
    "ExecuteTime": {
     "end_time": "2024-08-20T06:23:12.777407Z",
     "start_time": "2024-08-20T06:23:12.769372Z"
    }
   },
   "cell_type": "code",
   "source": "confusion_matrix(y_test, y_pred2)",
   "id": "ebe579c6e30a162c",
   "outputs": [
    {
     "data": {
      "text/plain": [
       "array([[5, 0, 0, 0, 0],\n",
       "       [0, 5, 0, 0, 0],\n",
       "       [0, 0, 4, 0, 0],\n",
       "       [0, 0, 0, 5, 0],\n",
       "       [0, 0, 0, 0, 4]], dtype=int64)"
      ]
     },
     "execution_count": 88,
     "metadata": {},
     "output_type": "execute_result"
    }
   ],
   "execution_count": 88
  },
  {
   "metadata": {
    "ExecuteTime": {
     "end_time": "2024-08-20T06:23:14.714884Z",
     "start_time": "2024-08-20T06:23:14.658578Z"
    }
   },
   "cell_type": "code",
   "source": [
    "for i in range(1,12):\n",
    "    knn = KNeighborsClassifier(n_neighbors=i)\n",
    "    knn.fit(X_train, y_train)\n",
    "    print(\"k = \", i, \"Accuracy: \", knn.score(X_test, y_test))"
   ],
   "id": "bc65f1e35aa567d3",
   "outputs": [
    {
     "name": "stdout",
     "output_type": "stream",
     "text": [
      "k =  1 Accuracy:  0.6521739130434783\n",
      "k =  2 Accuracy:  0.7391304347826086\n",
      "k =  3 Accuracy:  0.6521739130434783\n",
      "k =  4 Accuracy:  0.6521739130434783\n",
      "k =  5 Accuracy:  0.6521739130434783\n",
      "k =  6 Accuracy:  0.6956521739130435\n",
      "k =  7 Accuracy:  0.5652173913043478\n",
      "k =  8 Accuracy:  0.5652173913043478\n",
      "k =  9 Accuracy:  0.5217391304347826\n",
      "k =  10 Accuracy:  0.5217391304347826\n",
      "k =  11 Accuracy:  0.5652173913043478\n"
     ]
    }
   ],
   "execution_count": 89
  },
  {
   "metadata": {
    "ExecuteTime": {
     "end_time": "2024-08-20T06:23:17.679633Z",
     "start_time": "2024-08-20T06:23:17.654660Z"
    }
   },
   "cell_type": "code",
   "source": "print(classification_report(y_test, y_pred))",
   "id": "9b19c78bb6fe36a0",
   "outputs": [
    {
     "name": "stdout",
     "output_type": "stream",
     "text": [
      "              precision    recall  f1-score   support\n",
      "\n",
      "    Trial001       1.00      0.80      0.89         5\n",
      "    Trial002       0.67      0.80      0.73         5\n",
      "    Trial003       0.75      0.75      0.75         4\n",
      "    Trial004       1.00      0.80      0.89         5\n",
      "    Trial005       0.80      1.00      0.89         4\n",
      "\n",
      "    accuracy                           0.83        23\n",
      "   macro avg       0.84      0.83      0.83        23\n",
      "weighted avg       0.85      0.83      0.83        23\n",
      "\n"
     ]
    }
   ],
   "execution_count": 90
  },
  {
   "metadata": {
    "ExecuteTime": {
     "end_time": "2024-08-20T05:53:38.449568Z",
     "start_time": "2024-08-20T05:53:38.213354Z"
    }
   },
   "cell_type": "code",
   "source": [
    "df = pd.read_excel(\"C:\\\\Users\\\\srich\\\\Desktop\\\\project_newday\\\\year3\\ML\\\\Lab Session Data.xlsx\")\n",
    "df"
   ],
   "id": "b5e9b90b3a81c6c6",
   "outputs": [
    {
     "data": {
      "text/plain": [
       "  Customer  Candies (#)  Mangoes (Kg)  Milk Packets (#)  Payment (Rs)  \\\n",
       "0      C_1           20             6                 2           386   \n",
       "1      C_2           16             3                 6           289   \n",
       "2      C_3           27             6                 2           393   \n",
       "3      C_4           19             1                 2           110   \n",
       "4      C_5           24             4                 2           280   \n",
       "5      C_6           22             1                 5           167   \n",
       "6      C_7           15             4                 2           271   \n",
       "7      C_8           18             4                 2           274   \n",
       "8      C_9           21             1                 4           148   \n",
       "9     C_10           16             2                 4           198   \n",
       "\n",
       "   Unnamed: 5  Unnamed: 6  Unnamed: 7  Unnamed: 8  Unnamed: 9  ...  \\\n",
       "0         NaN         NaN         NaN         NaN         NaN  ...   \n",
       "1         NaN         NaN         NaN         NaN         NaN  ...   \n",
       "2         NaN         NaN         NaN         NaN         NaN  ...   \n",
       "3         NaN         NaN         NaN         NaN         NaN  ...   \n",
       "4         NaN         NaN         NaN         NaN         NaN  ...   \n",
       "5         NaN         NaN         NaN         NaN         NaN  ...   \n",
       "6         NaN         NaN         NaN         NaN         NaN  ...   \n",
       "7         NaN         NaN         NaN         NaN         NaN  ...   \n",
       "8         NaN         NaN         NaN         NaN         NaN  ...   \n",
       "9         NaN         NaN         NaN         NaN         NaN  ...   \n",
       "\n",
       "   Unnamed: 12  Unnamed: 13  Unnamed: 14  Unnamed: 15  Unnamed: 16  \\\n",
       "0          NaN          NaN          NaN          NaN          NaN   \n",
       "1          NaN          NaN          NaN          NaN          NaN   \n",
       "2          NaN          NaN          NaN          NaN          NaN   \n",
       "3          NaN          NaN          NaN          NaN          NaN   \n",
       "4          NaN          NaN          NaN          NaN          NaN   \n",
       "5          NaN          NaN          NaN          NaN          NaN   \n",
       "6          NaN          NaN          NaN          NaN          NaN   \n",
       "7          NaN          NaN          NaN          NaN          NaN   \n",
       "8          NaN          NaN          NaN          NaN          NaN   \n",
       "9          NaN          NaN          NaN          NaN          NaN   \n",
       "\n",
       "   Unnamed: 17  Unnamed: 18  Candy  Mango  Milk  \n",
       "0          NaN          NaN    1.0   55.0  18.0  \n",
       "1          NaN          NaN    NaN    NaN   NaN  \n",
       "2          NaN          NaN    NaN    NaN   NaN  \n",
       "3          NaN          NaN    NaN    NaN   NaN  \n",
       "4          NaN          NaN    NaN    NaN   NaN  \n",
       "5          NaN          NaN    NaN    NaN   NaN  \n",
       "6          NaN          NaN    NaN    NaN   NaN  \n",
       "7          NaN          NaN    NaN    NaN   NaN  \n",
       "8          NaN          NaN    NaN    NaN   NaN  \n",
       "9          NaN          NaN    NaN    NaN   NaN  \n",
       "\n",
       "[10 rows x 22 columns]"
      ],
      "text/html": [
       "<div>\n",
       "<style scoped>\n",
       "    .dataframe tbody tr th:only-of-type {\n",
       "        vertical-align: middle;\n",
       "    }\n",
       "\n",
       "    .dataframe tbody tr th {\n",
       "        vertical-align: top;\n",
       "    }\n",
       "\n",
       "    .dataframe thead th {\n",
       "        text-align: right;\n",
       "    }\n",
       "</style>\n",
       "<table border=\"1\" class=\"dataframe\">\n",
       "  <thead>\n",
       "    <tr style=\"text-align: right;\">\n",
       "      <th></th>\n",
       "      <th>Customer</th>\n",
       "      <th>Candies (#)</th>\n",
       "      <th>Mangoes (Kg)</th>\n",
       "      <th>Milk Packets (#)</th>\n",
       "      <th>Payment (Rs)</th>\n",
       "      <th>Unnamed: 5</th>\n",
       "      <th>Unnamed: 6</th>\n",
       "      <th>Unnamed: 7</th>\n",
       "      <th>Unnamed: 8</th>\n",
       "      <th>Unnamed: 9</th>\n",
       "      <th>...</th>\n",
       "      <th>Unnamed: 12</th>\n",
       "      <th>Unnamed: 13</th>\n",
       "      <th>Unnamed: 14</th>\n",
       "      <th>Unnamed: 15</th>\n",
       "      <th>Unnamed: 16</th>\n",
       "      <th>Unnamed: 17</th>\n",
       "      <th>Unnamed: 18</th>\n",
       "      <th>Candy</th>\n",
       "      <th>Mango</th>\n",
       "      <th>Milk</th>\n",
       "    </tr>\n",
       "  </thead>\n",
       "  <tbody>\n",
       "    <tr>\n",
       "      <th>0</th>\n",
       "      <td>C_1</td>\n",
       "      <td>20</td>\n",
       "      <td>6</td>\n",
       "      <td>2</td>\n",
       "      <td>386</td>\n",
       "      <td>NaN</td>\n",
       "      <td>NaN</td>\n",
       "      <td>NaN</td>\n",
       "      <td>NaN</td>\n",
       "      <td>NaN</td>\n",
       "      <td>...</td>\n",
       "      <td>NaN</td>\n",
       "      <td>NaN</td>\n",
       "      <td>NaN</td>\n",
       "      <td>NaN</td>\n",
       "      <td>NaN</td>\n",
       "      <td>NaN</td>\n",
       "      <td>NaN</td>\n",
       "      <td>1.0</td>\n",
       "      <td>55.0</td>\n",
       "      <td>18.0</td>\n",
       "    </tr>\n",
       "    <tr>\n",
       "      <th>1</th>\n",
       "      <td>C_2</td>\n",
       "      <td>16</td>\n",
       "      <td>3</td>\n",
       "      <td>6</td>\n",
       "      <td>289</td>\n",
       "      <td>NaN</td>\n",
       "      <td>NaN</td>\n",
       "      <td>NaN</td>\n",
       "      <td>NaN</td>\n",
       "      <td>NaN</td>\n",
       "      <td>...</td>\n",
       "      <td>NaN</td>\n",
       "      <td>NaN</td>\n",
       "      <td>NaN</td>\n",
       "      <td>NaN</td>\n",
       "      <td>NaN</td>\n",
       "      <td>NaN</td>\n",
       "      <td>NaN</td>\n",
       "      <td>NaN</td>\n",
       "      <td>NaN</td>\n",
       "      <td>NaN</td>\n",
       "    </tr>\n",
       "    <tr>\n",
       "      <th>2</th>\n",
       "      <td>C_3</td>\n",
       "      <td>27</td>\n",
       "      <td>6</td>\n",
       "      <td>2</td>\n",
       "      <td>393</td>\n",
       "      <td>NaN</td>\n",
       "      <td>NaN</td>\n",
       "      <td>NaN</td>\n",
       "      <td>NaN</td>\n",
       "      <td>NaN</td>\n",
       "      <td>...</td>\n",
       "      <td>NaN</td>\n",
       "      <td>NaN</td>\n",
       "      <td>NaN</td>\n",
       "      <td>NaN</td>\n",
       "      <td>NaN</td>\n",
       "      <td>NaN</td>\n",
       "      <td>NaN</td>\n",
       "      <td>NaN</td>\n",
       "      <td>NaN</td>\n",
       "      <td>NaN</td>\n",
       "    </tr>\n",
       "    <tr>\n",
       "      <th>3</th>\n",
       "      <td>C_4</td>\n",
       "      <td>19</td>\n",
       "      <td>1</td>\n",
       "      <td>2</td>\n",
       "      <td>110</td>\n",
       "      <td>NaN</td>\n",
       "      <td>NaN</td>\n",
       "      <td>NaN</td>\n",
       "      <td>NaN</td>\n",
       "      <td>NaN</td>\n",
       "      <td>...</td>\n",
       "      <td>NaN</td>\n",
       "      <td>NaN</td>\n",
       "      <td>NaN</td>\n",
       "      <td>NaN</td>\n",
       "      <td>NaN</td>\n",
       "      <td>NaN</td>\n",
       "      <td>NaN</td>\n",
       "      <td>NaN</td>\n",
       "      <td>NaN</td>\n",
       "      <td>NaN</td>\n",
       "    </tr>\n",
       "    <tr>\n",
       "      <th>4</th>\n",
       "      <td>C_5</td>\n",
       "      <td>24</td>\n",
       "      <td>4</td>\n",
       "      <td>2</td>\n",
       "      <td>280</td>\n",
       "      <td>NaN</td>\n",
       "      <td>NaN</td>\n",
       "      <td>NaN</td>\n",
       "      <td>NaN</td>\n",
       "      <td>NaN</td>\n",
       "      <td>...</td>\n",
       "      <td>NaN</td>\n",
       "      <td>NaN</td>\n",
       "      <td>NaN</td>\n",
       "      <td>NaN</td>\n",
       "      <td>NaN</td>\n",
       "      <td>NaN</td>\n",
       "      <td>NaN</td>\n",
       "      <td>NaN</td>\n",
       "      <td>NaN</td>\n",
       "      <td>NaN</td>\n",
       "    </tr>\n",
       "    <tr>\n",
       "      <th>5</th>\n",
       "      <td>C_6</td>\n",
       "      <td>22</td>\n",
       "      <td>1</td>\n",
       "      <td>5</td>\n",
       "      <td>167</td>\n",
       "      <td>NaN</td>\n",
       "      <td>NaN</td>\n",
       "      <td>NaN</td>\n",
       "      <td>NaN</td>\n",
       "      <td>NaN</td>\n",
       "      <td>...</td>\n",
       "      <td>NaN</td>\n",
       "      <td>NaN</td>\n",
       "      <td>NaN</td>\n",
       "      <td>NaN</td>\n",
       "      <td>NaN</td>\n",
       "      <td>NaN</td>\n",
       "      <td>NaN</td>\n",
       "      <td>NaN</td>\n",
       "      <td>NaN</td>\n",
       "      <td>NaN</td>\n",
       "    </tr>\n",
       "    <tr>\n",
       "      <th>6</th>\n",
       "      <td>C_7</td>\n",
       "      <td>15</td>\n",
       "      <td>4</td>\n",
       "      <td>2</td>\n",
       "      <td>271</td>\n",
       "      <td>NaN</td>\n",
       "      <td>NaN</td>\n",
       "      <td>NaN</td>\n",
       "      <td>NaN</td>\n",
       "      <td>NaN</td>\n",
       "      <td>...</td>\n",
       "      <td>NaN</td>\n",
       "      <td>NaN</td>\n",
       "      <td>NaN</td>\n",
       "      <td>NaN</td>\n",
       "      <td>NaN</td>\n",
       "      <td>NaN</td>\n",
       "      <td>NaN</td>\n",
       "      <td>NaN</td>\n",
       "      <td>NaN</td>\n",
       "      <td>NaN</td>\n",
       "    </tr>\n",
       "    <tr>\n",
       "      <th>7</th>\n",
       "      <td>C_8</td>\n",
       "      <td>18</td>\n",
       "      <td>4</td>\n",
       "      <td>2</td>\n",
       "      <td>274</td>\n",
       "      <td>NaN</td>\n",
       "      <td>NaN</td>\n",
       "      <td>NaN</td>\n",
       "      <td>NaN</td>\n",
       "      <td>NaN</td>\n",
       "      <td>...</td>\n",
       "      <td>NaN</td>\n",
       "      <td>NaN</td>\n",
       "      <td>NaN</td>\n",
       "      <td>NaN</td>\n",
       "      <td>NaN</td>\n",
       "      <td>NaN</td>\n",
       "      <td>NaN</td>\n",
       "      <td>NaN</td>\n",
       "      <td>NaN</td>\n",
       "      <td>NaN</td>\n",
       "    </tr>\n",
       "    <tr>\n",
       "      <th>8</th>\n",
       "      <td>C_9</td>\n",
       "      <td>21</td>\n",
       "      <td>1</td>\n",
       "      <td>4</td>\n",
       "      <td>148</td>\n",
       "      <td>NaN</td>\n",
       "      <td>NaN</td>\n",
       "      <td>NaN</td>\n",
       "      <td>NaN</td>\n",
       "      <td>NaN</td>\n",
       "      <td>...</td>\n",
       "      <td>NaN</td>\n",
       "      <td>NaN</td>\n",
       "      <td>NaN</td>\n",
       "      <td>NaN</td>\n",
       "      <td>NaN</td>\n",
       "      <td>NaN</td>\n",
       "      <td>NaN</td>\n",
       "      <td>NaN</td>\n",
       "      <td>NaN</td>\n",
       "      <td>NaN</td>\n",
       "    </tr>\n",
       "    <tr>\n",
       "      <th>9</th>\n",
       "      <td>C_10</td>\n",
       "      <td>16</td>\n",
       "      <td>2</td>\n",
       "      <td>4</td>\n",
       "      <td>198</td>\n",
       "      <td>NaN</td>\n",
       "      <td>NaN</td>\n",
       "      <td>NaN</td>\n",
       "      <td>NaN</td>\n",
       "      <td>NaN</td>\n",
       "      <td>...</td>\n",
       "      <td>NaN</td>\n",
       "      <td>NaN</td>\n",
       "      <td>NaN</td>\n",
       "      <td>NaN</td>\n",
       "      <td>NaN</td>\n",
       "      <td>NaN</td>\n",
       "      <td>NaN</td>\n",
       "      <td>NaN</td>\n",
       "      <td>NaN</td>\n",
       "      <td>NaN</td>\n",
       "    </tr>\n",
       "  </tbody>\n",
       "</table>\n",
       "<p>10 rows × 22 columns</p>\n",
       "</div>"
      ]
     },
     "execution_count": 31,
     "metadata": {},
     "output_type": "execute_result"
    }
   ],
   "execution_count": 31
  },
  {
   "metadata": {
    "ExecuteTime": {
     "end_time": "2024-08-20T05:53:54.253309Z",
     "start_time": "2024-08-20T05:53:54.223125Z"
    }
   },
   "cell_type": "code",
   "source": [
    "A = df[[\"Candies (#)\",\"Mangoes (Kg)\",\"Milk Packets (#)\"]]\n",
    "A"
   ],
   "id": "451bdb6daf73d05e",
   "outputs": [
    {
     "data": {
      "text/plain": [
       "   Candies (#)  Mangoes (Kg)  Milk Packets (#)\n",
       "0           20             6                 2\n",
       "1           16             3                 6\n",
       "2           27             6                 2\n",
       "3           19             1                 2\n",
       "4           24             4                 2\n",
       "5           22             1                 5\n",
       "6           15             4                 2\n",
       "7           18             4                 2\n",
       "8           21             1                 4\n",
       "9           16             2                 4"
      ],
      "text/html": [
       "<div>\n",
       "<style scoped>\n",
       "    .dataframe tbody tr th:only-of-type {\n",
       "        vertical-align: middle;\n",
       "    }\n",
       "\n",
       "    .dataframe tbody tr th {\n",
       "        vertical-align: top;\n",
       "    }\n",
       "\n",
       "    .dataframe thead th {\n",
       "        text-align: right;\n",
       "    }\n",
       "</style>\n",
       "<table border=\"1\" class=\"dataframe\">\n",
       "  <thead>\n",
       "    <tr style=\"text-align: right;\">\n",
       "      <th></th>\n",
       "      <th>Candies (#)</th>\n",
       "      <th>Mangoes (Kg)</th>\n",
       "      <th>Milk Packets (#)</th>\n",
       "    </tr>\n",
       "  </thead>\n",
       "  <tbody>\n",
       "    <tr>\n",
       "      <th>0</th>\n",
       "      <td>20</td>\n",
       "      <td>6</td>\n",
       "      <td>2</td>\n",
       "    </tr>\n",
       "    <tr>\n",
       "      <th>1</th>\n",
       "      <td>16</td>\n",
       "      <td>3</td>\n",
       "      <td>6</td>\n",
       "    </tr>\n",
       "    <tr>\n",
       "      <th>2</th>\n",
       "      <td>27</td>\n",
       "      <td>6</td>\n",
       "      <td>2</td>\n",
       "    </tr>\n",
       "    <tr>\n",
       "      <th>3</th>\n",
       "      <td>19</td>\n",
       "      <td>1</td>\n",
       "      <td>2</td>\n",
       "    </tr>\n",
       "    <tr>\n",
       "      <th>4</th>\n",
       "      <td>24</td>\n",
       "      <td>4</td>\n",
       "      <td>2</td>\n",
       "    </tr>\n",
       "    <tr>\n",
       "      <th>5</th>\n",
       "      <td>22</td>\n",
       "      <td>1</td>\n",
       "      <td>5</td>\n",
       "    </tr>\n",
       "    <tr>\n",
       "      <th>6</th>\n",
       "      <td>15</td>\n",
       "      <td>4</td>\n",
       "      <td>2</td>\n",
       "    </tr>\n",
       "    <tr>\n",
       "      <th>7</th>\n",
       "      <td>18</td>\n",
       "      <td>4</td>\n",
       "      <td>2</td>\n",
       "    </tr>\n",
       "    <tr>\n",
       "      <th>8</th>\n",
       "      <td>21</td>\n",
       "      <td>1</td>\n",
       "      <td>4</td>\n",
       "    </tr>\n",
       "    <tr>\n",
       "      <th>9</th>\n",
       "      <td>16</td>\n",
       "      <td>2</td>\n",
       "      <td>4</td>\n",
       "    </tr>\n",
       "  </tbody>\n",
       "</table>\n",
       "</div>"
      ]
     },
     "execution_count": 32,
     "metadata": {},
     "output_type": "execute_result"
    }
   ],
   "execution_count": 32
  },
  {
   "metadata": {
    "ExecuteTime": {
     "end_time": "2024-08-20T05:54:01.328115Z",
     "start_time": "2024-08-20T05:54:01.312906Z"
    }
   },
   "cell_type": "code",
   "source": [
    "C = df[[\"Payment (Rs)\"]]\n",
    "C"
   ],
   "id": "650cf788d063200a",
   "outputs": [
    {
     "data": {
      "text/plain": [
       "   Payment (Rs)\n",
       "0           386\n",
       "1           289\n",
       "2           393\n",
       "3           110\n",
       "4           280\n",
       "5           167\n",
       "6           271\n",
       "7           274\n",
       "8           148\n",
       "9           198"
      ],
      "text/html": [
       "<div>\n",
       "<style scoped>\n",
       "    .dataframe tbody tr th:only-of-type {\n",
       "        vertical-align: middle;\n",
       "    }\n",
       "\n",
       "    .dataframe tbody tr th {\n",
       "        vertical-align: top;\n",
       "    }\n",
       "\n",
       "    .dataframe thead th {\n",
       "        text-align: right;\n",
       "    }\n",
       "</style>\n",
       "<table border=\"1\" class=\"dataframe\">\n",
       "  <thead>\n",
       "    <tr style=\"text-align: right;\">\n",
       "      <th></th>\n",
       "      <th>Payment (Rs)</th>\n",
       "    </tr>\n",
       "  </thead>\n",
       "  <tbody>\n",
       "    <tr>\n",
       "      <th>0</th>\n",
       "      <td>386</td>\n",
       "    </tr>\n",
       "    <tr>\n",
       "      <th>1</th>\n",
       "      <td>289</td>\n",
       "    </tr>\n",
       "    <tr>\n",
       "      <th>2</th>\n",
       "      <td>393</td>\n",
       "    </tr>\n",
       "    <tr>\n",
       "      <th>3</th>\n",
       "      <td>110</td>\n",
       "    </tr>\n",
       "    <tr>\n",
       "      <th>4</th>\n",
       "      <td>280</td>\n",
       "    </tr>\n",
       "    <tr>\n",
       "      <th>5</th>\n",
       "      <td>167</td>\n",
       "    </tr>\n",
       "    <tr>\n",
       "      <th>6</th>\n",
       "      <td>271</td>\n",
       "    </tr>\n",
       "    <tr>\n",
       "      <th>7</th>\n",
       "      <td>274</td>\n",
       "    </tr>\n",
       "    <tr>\n",
       "      <th>8</th>\n",
       "      <td>148</td>\n",
       "    </tr>\n",
       "    <tr>\n",
       "      <th>9</th>\n",
       "      <td>198</td>\n",
       "    </tr>\n",
       "  </tbody>\n",
       "</table>\n",
       "</div>"
      ]
     },
     "execution_count": 33,
     "metadata": {},
     "output_type": "execute_result"
    }
   ],
   "execution_count": 33
  },
  {
   "metadata": {
    "ExecuteTime": {
     "end_time": "2024-08-20T05:54:10.672279Z",
     "start_time": "2024-08-20T05:54:10.653411Z"
    }
   },
   "cell_type": "code",
   "source": [
    "rp = []\n",
    "for i in list(df[\"Payment (Rs)\"]):\n",
    "    if int(i)>200:\n",
    "        rp.append(\"RICH\")\n",
    "    else:\n",
    "        rp.append(\"POOR\")\n",
    "df.rename(columns={\"Unnamed: 5\": \"RichPoor\"}, inplace=True)\n",
    "df.loc[:, \"RichPoor\"] = rp"
   ],
   "id": "a0d5e624271e2048",
   "outputs": [],
   "execution_count": 34
  },
  {
   "metadata": {
    "ExecuteTime": {
     "end_time": "2024-08-20T06:01:58.668467Z",
     "start_time": "2024-08-20T06:01:58.655143Z"
    }
   },
   "cell_type": "code",
   "source": [
    "df[\"RichPoor\"].value_counts()\n",
    "X = df[[\"Candies (#)\",\"Mangoes (Kg)\",\"Milk Packets (#)\"]]\n",
    "y = df[\"Payment (Rs)\"]\n",
    "X_train, X_test, y_train, y_test = train_test_split(X, y, test_size=0.3)\n",
    "X_pseudo_inverse = np.linalg.pinv(X_train)\n",
    "w = np.dot(X_pseudo_inverse, y_train)"
   ],
   "id": "5a6ce44cf8d4cc16",
   "outputs": [],
   "execution_count": 40
  },
  {
   "metadata": {
    "ExecuteTime": {
     "end_time": "2024-08-20T06:03:15.447082Z",
     "start_time": "2024-08-20T06:03:15.433495Z"
    }
   },
   "cell_type": "code",
   "source": [
    "y_pred = np.dot(X_test, w)\n",
    "mse = mean_squared_error(y_test, y_pred)\n",
    "rmse = np.sqrt(mse)\n",
    "mape = np.mean(np.abs((y_test - y_pred) / y_test)) * 100\n",
    "r2 = r2_score(y_test, y_pred)\n",
    "\n",
    "print(f\"Mean Squared Error (MSE): {mse}\")\n",
    "print(f\"Root Mean Squared Error (RMSE): {rmse}\")\n",
    "print(f\"Mean Absolute Percentage Error (MAPE): {mape}%\")\n",
    "print(f\"R-squared (R²) score: {r2}\")"
   ],
   "id": "437febf7144fb00d",
   "outputs": [
    {
     "name": "stdout",
     "output_type": "stream",
     "text": [
      "Mean Squared Error (MSE): 5.6545549686242126e-27\n",
      "Root Mean Squared Error (RMSE): 7.519677498818824e-14\n",
      "Mean Absolute Percentage Error (MAPE): 2.517054650018039e-14%\n",
      "R-squared (R²) score: 1.0\n"
     ]
    }
   ],
   "execution_count": 45
  },
  {
   "metadata": {
    "ExecuteTime": {
     "end_time": "2024-08-20T06:10:46.187199Z",
     "start_time": "2024-08-20T06:10:45.949224Z"
    }
   },
   "cell_type": "code",
   "source": [
    "np.random.seed(1)\n",
    "\n",
    "X = np.random.uniform(1, 10, 20)\n",
    "Y = np.random.uniform(1, 10, 20)\n",
    "\n",
    "classes = np.random.choice([0, 1], 20)\n",
    "\n",
    "plt.figure(figsize=(8, 6))\n",
    "\n",
    "plt.scatter(X[classes == 0], Y[classes == 0], color='blue', label='Class 0 (Blue)')\n",
    "\n",
    "plt.scatter(X[classes == 1], Y[classes == 1], color='red', label='Class 1 (Red)')\n",
    "\n",
    "plt.xlabel('Feature X')\n",
    "plt.ylabel('Feature Y')\n",
    "plt.title('Scatter Plot of Training Data Points')\n",
    "plt.legend()\n",
    "\n",
    "plt.show()"
   ],
   "id": "65fc832334e9f167",
   "outputs": [
    {
     "data": {
      "text/plain": [
       "<Figure size 800x600 with 1 Axes>"
      ],
      "image/png": "[encoded data removed]"
     },
     "metadata": {},
     "output_type": "display_data"
    }
   ],
   "execution_count": 64
  },
  {
   "metadata": {
    "ExecuteTime": {
     "end_time": "2024-08-20T06:18:59.388588Z",
     "start_time": "2024-08-20T06:18:58.509024Z"
    }
   },
   "cell_type": "code",
   "source": [
    "np.random.seed(42)\n",
    "\n",
    "X_train = np.random.uniform(1, 10, 20)\n",
    "Y_train = np.random.uniform(1, 10, 20)\n",
    "classes_train = np.random.choice([0, 1], 20)\n",
    "\n",
    "train_data = np.column_stack((X_train, Y_train))\n",
    "\n",
    "x_test = np.arange(0, 10.1, 0.1)\n",
    "y_test = np.arange(0, 10.1, 0.1)\n",
    "X_test, Y_test = np.meshgrid(x_test, y_test)\n",
    "test_data = np.column_stack((X_test.ravel(), Y_test.ravel()))\n",
    "\n",
    "knn = KNeighborsClassifier(n_neighbors=3)\n",
    "knn.fit(train_data, classes_train)\n",
    "predicted_classes = knn.predict(test_data)\n",
    "\n",
    "plt.figure(figsize=(10, 8))\n",
    "\n",
    "plt.scatter(test_data[predicted_classes == 0, 0], test_data[predicted_classes == 0, 1], color='blue', s=1, label='Class 0 (blue)')\n",
    "\n",
    "plt.scatter(test_data[predicted_classes == 1, 0], test_data[predicted_classes == 1, 1], color='red', s=1, label='Class 1 (red)')\n",
    "\n",
    "plt.scatter(X_train[classes_train == 0], Y_train[classes_train == 0], color='blue', edgecolor='black', label='Training Class 0', marker='o')\n",
    "plt.scatter(X_train[classes_train == 1], Y_train[classes_train == 1], color='red', edgecolor='black', label='Training Class 1', marker='o')\n",
    "\n",
    "plt.xlabel('Feature X')\n",
    "plt.ylabel('Feature Y')\n",
    "plt.title('kNN Classification of Test Data (k = 3)')\n",
    "plt.legend()\n",
    "\n",
    "plt.show()"
   ],
   "id": "c5e07734d4c2a38d",
   "outputs": [
    {
     "data": {
      "text/plain": [
       "<Figure size 1000x800 with 1 Axes>"
      ],
      "image/png": "[encoded data removed]"
     },
     "metadata": {},
     "output_type": "display_data"
    }
   ],
   "execution_count": 68
  },
  {
   "metadata": {
    "ExecuteTime": {
     "end_time": "2024-08-20T06:21:25.960085Z",
     "start_time": "2024-08-20T06:21:25.041008Z"
    }
   },
   "cell_type": "code",
   "source": [
    "knn = KNeighborsClassifier(n_neighbors=5)\n",
    "knn.fit(train_data, classes_train)\n",
    "predicted_classes = knn.predict(test_data)\n",
    "\n",
    "plt.figure(figsize=(10, 8))\n",
    "\n",
    "plt.scatter(test_data[predicted_classes == 0, 0], test_data[predicted_classes == 0, 1], color='blue', s=1, label='Class 0 (blue)')\n",
    "\n",
    "plt.scatter(test_data[predicted_classes == 1, 0], test_data[predicted_classes == 1, 1], color='red', s=1, label='Class 1 (red)')\n",
    "\n",
    "plt.scatter(X_train[classes_train == 0], Y_train[classes_train == 0], color='blue', edgecolor='black', label='Training Class 0', marker='o')\n",
    "plt.scatter(X_train[classes_train == 1], Y_train[classes_train == 1], color='red', edgecolor='black', label='Training Class 1', marker='o')\n",
    "\n",
    "plt.xlabel('Feature X')\n",
    "plt.ylabel('Feature Y')\n",
    "plt.title('kNN Classification of Test Data (k = 5)')\n",
    "plt.legend()\n",
    "\n",
    "plt.show()"
   ],
   "id": "bf7751a2420d1be2",
   "outputs": [
    {
     "data": {
      "text/plain": [
       "<Figure size 1000x800 with 1 Axes>"
      ],
      "image/png": "[encoded data removed]"
     },
     "metadata": {},
     "output_type": "display_data"
    }
   ],
   "execution_count": 75
  },
  {
   "metadata": {
    "ExecuteTime": {
     "end_time": "2024-08-20T06:35:54.053529Z",
     "start_time": "2024-08-20T06:35:54.042681Z"
    }
   },
   "cell_type": "code",
   "source": [
    "y = proj['Trial']\n",
    "y.value_counts()"
   ],
   "id": "dc41de178e6d861f",
   "outputs": [
    {
     "data": {
      "text/plain": [
       "Trial\n",
       "Trial001    15\n",
       "Trial002    15\n",
       "Trial003    15\n",
       "Trial004    15\n",
       "Trial005    15\n",
       "Name: count, dtype: int64"
      ]
     },
     "execution_count": 98,
     "metadata": {},
     "output_type": "execute_result"
    }
   ],
   "execution_count": 98
  },
  {
   "metadata": {
    "ExecuteTime": {
     "end_time": "2024-08-20T06:59:32.634606Z",
     "start_time": "2024-08-20T06:59:32.337281Z"
    }
   },
   "cell_type": "code",
   "source": [
    "import numpy as np\n",
    "import matplotlib.pyplot as plt\n",
    "from sklearn.neighbors import KNeighborsClassifier\n",
    "from sklearn.model_selection import train_test_split\n",
    "import pandas as pd\n",
    "\n",
    "# Sample data for demonstration (assuming proj is your DataFrame)\n",
    "# Replace this with your actual DataFrame loading\n",
    "# proj = pd.read_csv('your_data_file.csv')\n",
    "\n",
    "# Define features and target variable\n",
    "y = proj['Trial']\n",
    "X = proj[['Total Fixation', 'Total Duration']]\n",
    "\n",
    "# Map categorical labels to numeric values\n",
    "trial_mapping = {label: idx for idx, label in enumerate(y.unique())}\n",
    "y_numeric = y.map(trial_mapping)\n",
    "\n",
    "# Split data into training and test sets\n",
    "X_train, X_test, y_train, y_test = train_test_split(X, y_numeric, test_size=0.3, random_state=42)\n",
    "\n",
    "# Create and train kNN classifier\n",
    "neigh = KNeighborsClassifier(n_neighbors=3)\n",
    "neigh.fit(X_train, y_train)\n",
    "\n",
    "# Predict classes on the test set\n",
    "y_pred = neigh.predict(X_test)\n",
    "\n",
    "# Scatter plot\n",
    "plt.figure(figsize=(10, 8))\n",
    "\n",
    "# Plot test points with their predicted class\n",
    "plt.scatter(X_test.iloc[:, 0], X_test.iloc[:, 1], c=y_pred, cmap=plt.cm.RdYlBu, marker='o', label='Predicted Classes')\n",
    "\n",
    "# Plot training points for reference\n",
    "plt.scatter(X_train.iloc[:, 0], X_train.iloc[:, 1], c=y_train, cmap=plt.cm.RdYlBu, marker='x', label='Training Classes')\n",
    "\n",
    "# Add labels, legend, and title\n",
    "plt.xlabel('Total Fixation')\n",
    "plt.ylabel('Total Duration')\n",
    "plt.title('kNN Classifier (k=3)')\n",
    "plt.legend()\n",
    "plt.colorbar(label='Class')\n",
    "\n",
    "# Show plot\n",
    "plt.show()\n",
    "\n",
    "# Optionally, print the mapping to see how labels are converted\n",
    "print(\"Label mapping:\", trial_mapping)\n"
   ],
   "id": "f3a47c6bf72d2b85",
   "outputs": [
    {
     "data": {
      "text/plain": [
       "<Figure size 1000x800 with 2 Axes>"
      ],
      "image/png": "[encoded data removed]"
     },
     "metadata": {},
     "output_type": "display_data"
    },
    {
     "name": "stdout",
     "output_type": "stream",
     "text": [
      "Label mapping: {'Trial001': 0, 'Trial002': 1, 'Trial003': 2, 'Trial004': 3, 'Trial005': 4}\n"
     ]
    }
   ],
   "execution_count": 122
  },
  {
   "metadata": {
    "ExecuteTime": {
     "end_time": "2024-08-20T06:53:59.994313Z",
     "start_time": "2024-08-20T06:53:59.657108Z"
    }
   },
   "cell_type": "code",
   "source": [
    "import numpy as np\n",
    "import pandas as pd\n",
    "from sklearn.datasets import load_iris\n",
    "from sklearn.model_selection import train_test_split, GridSearchCV, RandomizedSearchCV\n",
    "from sklearn.neighbors import KNeighborsClassifier\n",
    "from scipy.stats import randint\n",
    "\n",
    "# Load data\n",
    "data = load_iris()\n",
    "X = data.data\n",
    "y = data.target\n",
    "\n",
    "# Split data into training and test sets\n",
    "X_train, X_test, y_train, y_test = train_test_split(X, y, test_size=0.3, random_state=42)\n",
    "\n",
    "# Define the model\n",
    "knn = KNeighborsClassifier()\n",
    "\n",
    "# Define parameter grid for GridSearchCV\n",
    "param_grid = {\n",
    "    'n_neighbors': [1, 3, 5, 7, 9],\n",
    "    'weights': ['uniform', 'distance']\n",
    "}\n",
    "\n",
    "# Instantiate and fit GridSearchCV\n",
    "grid_search = GridSearchCV(estimator=knn, param_grid=param_grid, cv=5, scoring='accuracy')\n",
    "grid_search.fit(X_train, y_train)\n",
    "\n",
    "# Output GridSearchCV results\n",
    "print(\"GridSearchCV Best Parameters:\", grid_search.best_params_)\n",
    "print(\"GridSearchCV Best Score:\", grid_search.best_score_)\n",
    "\n",
    "# Define parameter distributions for RandomizedSearchCV\n",
    "param_dist = {\n",
    "    'n_neighbors': randint(1, 20),\n",
    "    'weights': ['uniform', 'distance']\n",
    "}\n",
    "\n",
    "# Instantiate and fit RandomizedSearchCV\n",
    "random_search = RandomizedSearchCV(estimator=knn, param_distributions=param_dist, n_iter=10, cv=5, scoring='accuracy', random_state=42)\n",
    "random_search.fit(X_train, y_train)\n",
    "\n",
    "# Output RandomizedSearchCV results\n",
    "print(\"RandomizedSearchCV Best Parameters:\", random_search.best_params_)\n",
    "print(\"RandomizedSearchCV Best Score:\", random_search.best_score_)\n"
   ],
   "id": "571497a4c517275b",
   "outputs": [
    {
     "name": "stdout",
     "output_type": "stream",
     "text": [
      "GridSearchCV Best Parameters: {'n_neighbors': 1, 'weights': 'uniform'}\n",
      "GridSearchCV Best Score: 0.9523809523809523\n",
      "RandomizedSearchCV Best Parameters: {'n_neighbors': 7, 'weights': 'distance'}\n",
      "RandomizedSearchCV Best Score: 0.9523809523809523\n"
     ]
    }
   ],
   "execution_count": 114
  },
  {
   "metadata": {},
   "cell_type": "code",
   "outputs": [],
   "execution_count": null,
   "source": "",
   "id": "52f9b24431b98329"
  }
 ],
 "metadata": {
  "kernelspec": {
   "display_name": "Python 3",
   "language": "python",
   "name": "python3"
  },
  "language_info": {
   "codemirror_mode": {
    "name": "ipython",
    "version": 2
   },
   "file_extension": ".py",
   "mimetype": "text/x-python",
   "name": "python",
   "nbconvert_exporter": "python",
   "pygments_lexer": "ipython2",
   "version": "2.7.6"
  }
 },
 "nbformat": 4,
 "nbformat_minor": 5
}
