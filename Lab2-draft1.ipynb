{
 "cells": [
  {
   "cell_type": "code",
   "execution_count": 1,
   "id": "324d16d0-fecb-4e50-8dbc-1f2ae0ba445b",
   "metadata": {},
   "outputs": [],
   "source": [
    "import pandas as pd\n",
    "import numpy as np\n",
    "data1=pd.read_excel(\"Lab Session Data.xlsx\",sheet_name=\"Purchase data\")\n",
    "data_Purchase=data1.iloc[:,0:5]"
   ]
  },
  {
   "cell_type": "code",
   "execution_count": 3,
   "id": "37dc1c61-4817-4702-a43f-b9e2b5e623b6",
   "metadata": {},
   "outputs": [],
   "source": [
    "def q1_q2_purchase_data(data):\n",
    "    A=data.iloc[:,1:4].values\n",
    "    C=data.iloc[:,4].values\n",
    "    columns_A=A.shape[1]\n",
    "    rows_A=A.shape[0]\n",
    "    total_vectors=A.shape[0]\n",
    "    columns_C=1\n",
    "    rows_C=C.shape[0]\n",
    "    rank_A = np.linalg.matrix_rank(A)\n",
    "    pseudo_inverse_A = np.linalg.pinv(A)\n",
    "    cost = np.dot(pseudo_inverse_A, C)\n",
    "    model_vector_X = np.dot(pseudo_inverse_A, C)\n",
    "    return total_vectors,rank_A,cost,columns_A,rows_A,model_vector_X\n",
    "    \n"
   ]
  },
  {
   "cell_type": "code",
   "execution_count": 5,
   "id": "ae505e03-a7be-453c-b526-1feb2c4ce7c3",
   "metadata": {},
   "outputs": [],
   "source": [
    "def q3_classify_customers_onbasis_of_payment(data):\n",
    "    data[\"Status\"]=data[\"Payment (Rs)\"].apply(lambda x: \"Rich\" if x>200 else \"Poor\")\n",
    "    return data\n",
    "    "
   ]
  },
  {
   "cell_type": "code",
   "execution_count": null,
   "id": "f55d8f40-a1e3-4b84-958c-dbfccdc1b29f",
   "metadata": {},
   "outputs": [],
   "source": [
    "data_IRCTC=pd.read_excel(\"Lab Session Data.xlsx\",sheet_name=\"IRCTC Stock Price\")\n",
    "def q4_IRCTC(data_IRCTC):\n",
    "    mean_price=data_IRCTC[\"Price\"].mean()    # mean\n",
    "    variance_price=data_IRCTC[\"Price\"].var() #  variance \n",
    "    \n",
    "    # finding mean price where day is wednesday\n",
    "    mask=data_IRCTC[\"Day\"]==\"Wed\"\n",
    "    data_wed=data_IRCTC[mask]   # 1550.7060000000001\n",
    "    mean_price_wed=data_wed[\"Price\"].mean()    # 1560.6634538152612\n",
    "    # thus there is not much difference between both the means\n",
    "\n",
    "    mask2=data_IRCTC[\"Month\"]==\"Apr\"\n",
    "    data_apr=data_IRCTC[mask2]\n",
    "    data_apr[\"Price\"]\n",
    "    mean_price_apr=data_apr[\"Price\"].mean()  \n",
    "    mean_price_apr   #1698.9526315789474\n",
    "    # thus mean_price_apr is a lot larger than campared to population_mean\n",
    "\n",
    "    chg_percent = data_IRCTC['Chg%']\n",
    "    loss_probability = len([chg for chg in chg_percent if chg < 0]) / len(chg_percent)\n",
    "\n",
    "    profit_in_wed=data_wed[\"Chg%\"]\n",
    "    profit_prob_in_wed=len([chg for chg in profit_in_wed if chg>0]) / len(profit_in_wed)\n",
    "\n",
    "    profit_wednesday = len([chg for chg in profit_in_wed if chg > 0])\n",
    "    conditional_profit_wednesday = profit_prob_in_wed * (len(profit_in_wed) / len(chg_percent))\n",
    "\n",
    "    \n",
    "\n",
    "    return mean_price , variance_price , mean_price_wed , mean_price_apr , loss_probability , profit_prob_in_wed , profit_wednesday"
   ]
  }
 ],
 "metadata": {
  "kernelspec": {
   "display_name": "Python 3 (ipykernel)",
   "language": "python",
   "name": "python3"
  },
  "language_info": {
   "codemirror_mode": {
    "name": "ipython",
    "version": 3
   },
   "file_extension": ".py",
   "mimetype": "text/x-python",
   "name": "python",
   "nbconvert_exporter": "python",
   "pygments_lexer": "ipython3",
   "version": "3.12.4"
  }
 },
 "nbformat": 4,
 "nbformat_minor": 5
}
